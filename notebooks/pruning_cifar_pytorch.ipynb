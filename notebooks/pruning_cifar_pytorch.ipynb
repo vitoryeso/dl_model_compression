{
  "nbformat": 4,
  "nbformat_minor": 0,
  "metadata": {
    "colab": {
      "name": "pruning_cifar_pytorch.ipynb",
      "provenance": [],
      "collapsed_sections": []
    },
    "kernelspec": {
      "name": "python3",
      "display_name": "Python 3"
    },
    "language_info": {
      "name": "python"
    },
    "accelerator": "GPU"
  },
  "cells": [
    {
      "cell_type": "code",
      "metadata": {
        "id": "oyxolulyvU10"
      },
      "source": [
        "import torch\n",
        "\n",
        "import torchvision\n",
        "import torchvision.transforms as transforms"
      ],
      "execution_count": 1,
      "outputs": []
    },
    {
      "cell_type": "code",
      "metadata": {
        "colab": {
          "base_uri": "https://localhost:8080/"
        },
        "id": "3_IjTQmDvnGG",
        "outputId": "14833591-8efe-4418-9e53-36d4d7f697c9"
      },
      "source": [
        "dev = torch.device(\n",
        "    \"cuda\") if torch.cuda.is_available() else torch.device(\"cpu\")\n",
        "\n",
        "dev"
      ],
      "execution_count": 2,
      "outputs": [
        {
          "output_type": "execute_result",
          "data": {
            "text/plain": [
              "device(type='cuda')"
            ]
          },
          "metadata": {},
          "execution_count": 2
        }
      ]
    },
    {
      "cell_type": "code",
      "metadata": {
        "colab": {
          "base_uri": "https://localhost:8080/"
        },
        "id": "u-7UczrZvrS5",
        "outputId": "0666c355-04a5-49d3-b7b9-ddc56a9b14bf"
      },
      "source": [
        "transform_train = transforms.Compose(\n",
        "    [transforms.RandomCrop(32, padding=4),\n",
        "     transforms.RandomHorizontalFlip(),\n",
        "     transforms.ToTensor(),\n",
        "     # transforms Normalize ( (R_mean, G_mean, B_mean), (R_std, G_std, B_std) )\n",
        "     transforms.Normalize((0.5, 0.5, 0.5), (0.5, 0.5, 0.5))])\n",
        "\n",
        "transform_test = transforms.Compose(\n",
        "    [transforms.ToTensor(),\n",
        "     # transforms Normalize ( (R_mean, G_mean, B_mean), (R_std, G_std, B_std) )\n",
        "     transforms.Normalize((0.5, 0.5, 0.5), (0.5, 0.5, 0.5))])\n",
        "\n",
        "batch_size = 64\n",
        "\n",
        "trainset = torchvision.datasets.CIFAR10(root='./data', train=True,\n",
        "                                        download=True, transform=transform_train)\n",
        "\n",
        "trainloader = torch.utils.data.DataLoader(trainset, batch_size=batch_size,\n",
        "                                          shuffle=True, num_workers=2)\n",
        "\n",
        "testset = torchvision.datasets.CIFAR10(root='./data', train=False,\n",
        "                                       download=True, transform=transform_test)\n",
        "testloader = torch.utils.data.DataLoader(testset, batch_size=batch_size,\n",
        "                                         shuffle=False, num_workers=2)\n",
        "\n",
        "\n",
        "classes = ('plane', 'car', 'bird', 'cat',\n",
        "           'deer', 'dog', 'frog', 'horse', 'ship', 'truck')"
      ],
      "execution_count": 35,
      "outputs": [
        {
          "output_type": "stream",
          "text": [
            "Files already downloaded and verified\n",
            "Files already downloaded and verified\n"
          ],
          "name": "stdout"
        }
      ]
    },
    {
      "cell_type": "code",
      "metadata": {
        "colab": {
          "base_uri": "https://localhost:8080/"
        },
        "id": "SGfHiWcYwOe2",
        "outputId": "fa006a22-69ab-487d-87b7-50d5295d90f1"
      },
      "source": [
        "print(trainset)\n",
        "\n",
        "print(testset)"
      ],
      "execution_count": 36,
      "outputs": [
        {
          "output_type": "stream",
          "text": [
            "Dataset CIFAR10\n",
            "    Number of datapoints: 50000\n",
            "    Root location: ./data\n",
            "    Split: Train\n",
            "    StandardTransform\n",
            "Transform: Compose(\n",
            "               RandomCrop(size=(32, 32), padding=4)\n",
            "               RandomHorizontalFlip(p=0.5)\n",
            "               ToTensor()\n",
            "               Normalize(mean=(0.5, 0.5, 0.5), std=(0.5, 0.5, 0.5))\n",
            "           )\n",
            "Dataset CIFAR10\n",
            "    Number of datapoints: 10000\n",
            "    Root location: ./data\n",
            "    Split: Test\n",
            "    StandardTransform\n",
            "Transform: Compose(\n",
            "               ToTensor()\n",
            "               Normalize(mean=(0.5, 0.5, 0.5), std=(0.5, 0.5, 0.5))\n",
            "           )\n"
          ],
          "name": "stdout"
        }
      ]
    },
    {
      "cell_type": "code",
      "metadata": {
        "colab": {
          "base_uri": "https://localhost:8080/"
        },
        "id": "fd0v-cqcwRYZ",
        "outputId": "52947415-3dbc-4bea-f63e-6d5424002a81"
      },
      "source": [
        "data = iter(trainloader)\n",
        "x, y = data.next()\n",
        "print(x.shape)"
      ],
      "execution_count": 37,
      "outputs": [
        {
          "output_type": "stream",
          "text": [
            "torch.Size([64, 3, 32, 32])\n"
          ],
          "name": "stdout"
        }
      ]
    },
    {
      "cell_type": "code",
      "metadata": {
        "colab": {
          "base_uri": "https://localhost:8080/",
          "height": 98
        },
        "id": "ufmHMliJwTn4",
        "outputId": "8ff3d576-8c6d-493c-dea9-3f2514613a50"
      },
      "source": [
        "import matplotlib.pyplot as plt\n",
        "import numpy as np\n",
        "\n",
        "# functions to show an image\n",
        "\n",
        "\n",
        "def imshow(img):\n",
        "    img = img / 2 + 0.5     # unnormalize\n",
        "    npimg = img.numpy()\n",
        "    plt.axis('Off')\n",
        "    plt.imshow(np.transpose(npimg, (1, 2, 0)))\n",
        "    plt.show()\n",
        "\n",
        "\n",
        "# get some random training images\n",
        "dataiter = iter(trainloader)\n",
        "images, labels = dataiter.next()\n",
        "\n",
        "# show images\n",
        "imshow(torchvision.utils.make_grid(images[:7]))\n",
        "# print labels\n",
        "print(' '.join('%5s' % classes[labels[j]] for j in range(7)))"
      ],
      "execution_count": 38,
      "outputs": [
        {
          "output_type": "display_data",
          "data": {
            "image/png": "[encoded data removed]",
            "text/plain": [
              "<Figure size 432x288 with 1 Axes>"
            ]
          },
          "metadata": {
            "needs_background": "light"
          }
        },
        {
          "output_type": "stream",
          "text": [
            "plane plane   dog   car horse truck plane\n"
          ],
          "name": "stdout"
        }
      ]
    },
    {
      "cell_type": "code",
      "metadata": {
        "id": "IrBrGiZnwVeU"
      },
      "source": [
        "import torch.nn as nn\n",
        "import torch.nn.functional as F\n",
        "\n",
        "class convModel(nn.Module):\n",
        "    def __init__(self):\n",
        "        super().__init__()\n",
        "        \n",
        "        # Conv2D(in_channels, out_channels, kernel_size, ...)\n",
        "        self.conv1 = nn.Conv2d(3, 32, 3)\n",
        "        self.conv2 = nn.Conv2d(32, 64, 3)\n",
        "        self.conv3 = nn.Conv2d(64, 128, 3)\n",
        "\n",
        "        self.conv4 = nn.Conv2d(128, 128, 3)\n",
        "        self.conv5 = nn.Conv2d(128, 128, 3)\n",
        "        \n",
        "        # MaxPool2D(kernel_size, stride, ...)\n",
        "        self.maxpool = nn.MaxPool2d(2, 2)\n",
        "\n",
        "        self.dropout1 = nn.Dropout2d(0.2)\n",
        "        self.dropout2 = nn.Dropout2d(0.4)\n",
        "\n",
        "        \n",
        "        self.fc1 = nn.Linear(4 * 4 * 128, 512)\n",
        "        self.fc2 = nn.Linear(512, 256)\n",
        "        self.fc3 = nn.Linear(256, 84)\n",
        "        self.fc4 = nn.Linear(84, 10)\n",
        "        \n",
        "    def forward(self, x):\n",
        "        x = self.conv1(x)\n",
        "        #x = self.maxpool(self.conv2(x))\n",
        "        x = self.conv2(x)\n",
        "        x = self.maxpool(self.conv3(x))\n",
        "        x = F.relu(x)\n",
        "\n",
        "        x = self.conv4(x)\n",
        "        x = self.maxpool(self.conv5(x))\n",
        "        x = F.relu(x)\n",
        "        \n",
        "        x = torch.flatten(x, 1)\n",
        "\n",
        "        x = self.dropout2(x)\n",
        "        \n",
        "        x = F.relu(self.fc1(x))\n",
        "        x = self.dropout2(x)\n",
        "\n",
        "        x = F.relu(self.fc2(x))\n",
        "        x = self.dropout1(x)\n",
        "\n",
        "        x = F.relu(self.fc3(x))\n",
        "        x = self.dropout1(x)\n",
        "\n",
        "        x = self.fc4(x)\n",
        "        \n",
        "        return x\n",
        "        "
      ],
      "execution_count": 39,
      "outputs": []
    },
    {
      "cell_type": "code",
      "metadata": {
        "colab": {
          "base_uri": "https://localhost:8080/"
        },
        "id": "sczrsgYvRUe3",
        "outputId": "d0715621-4087-4130-aadf-323e2d8907bc"
      },
      "source": [
        "def accuracy(out, yb):\n",
        "    preds = torch.argmax(out, dim=1)\n",
        "    return (preds == yb).float().mean()\n",
        "\n",
        "print(len(testloader))\n",
        "print(len(trainloader))"
      ],
      "execution_count": 40,
      "outputs": [
        {
          "output_type": "stream",
          "text": [
            "157\n",
            "782\n"
          ],
          "name": "stdout"
        }
      ]
    },
    {
      "cell_type": "code",
      "metadata": {
        "id": "0end8WeTT-Jv"
      },
      "source": [
        "def density(net):\n",
        "  non_zero = 0\n",
        "  count = 0\n",
        "  with torch.no_grad():\n",
        "      for p in net.parameters():\n",
        "        #flatted_weights = torch.flatten(p)\n",
        "        non_zero += torch.count_nonzero(p).cpu().numpy()\n",
        "        count += torch.numel(p)\n",
        "\n",
        "  #print(\"non zero: \", non_zero)\n",
        "  #print(\"count: \", count)\n",
        "  return non_zero / count\n"
      ],
      "execution_count": 41,
      "outputs": []
    },
    {
      "cell_type": "code",
      "metadata": {
        "id": "QHllEZHf8YNe"
      },
      "source": [
        "# fit pruning\n",
        "# return list of loss, acc\n",
        "def fit_pruning(net, optimizer, epochs, gamma, loss_fn, train_dl, test_dl, b=8):\n",
        "    train_losses = []\n",
        "    test_losses = []\n",
        "    train_accuracies = []\n",
        "    test_accuracies = []\n",
        "    densities = []\n",
        "    for epoch in range(epochs):  # loop over the dataset multiple times\n",
        "        train_loss = 0.0\n",
        "        test_loss = 0.0\n",
        "        train_acc = 0.0\n",
        "        test_acc = 0.0\n",
        "\n",
        "        # TRAIN\n",
        "        for i, data in enumerate(train_dl):\n",
        "            # get the inputs; data is a list of [inputs, labels]\n",
        "            inputs, labels = data[0].to(dev), data[1].to(dev)\n",
        "\n",
        "            # forward\n",
        "            outputs = net(inputs)\n",
        "            \n",
        "            # loss calculation\n",
        "            loss = loss_fn(outputs, labels)\n",
        "            \n",
        "            # loss backward. grads are generated here\n",
        "            loss.backward()\n",
        "            \n",
        "            # update weights\n",
        "            optimizer.step()\n",
        "\n",
        "            # reset gradients\n",
        "            optimizer.zero_grad()\n",
        "\n",
        "            # >>> PRUNING <<<\n",
        "            if gamma > 0.0:\n",
        "                for p in net.parameters():\n",
        "                    #previous = p.clone().detach();\n",
        "                    \n",
        "                    with torch.no_grad():\n",
        "                        # transformando o layer em um vetor unidimensional \n",
        "                        flatted_weights = torch.flatten(p)\n",
        "    \n",
        "                        # calculando o desvio padrao\n",
        "                        std = torch.std(flatted_weights, -1)\n",
        "    \n",
        "                        # calculando o beta para a camada\n",
        "                        beta = gamma * std                        \n",
        "                        \n",
        "                        # mascara booleana, que indica qual peso devera ser mantido\n",
        "                        mask = torch.gt(p.abs(), torch.ones_like(p) * beta)\n",
        "                        \n",
        "                        # multiplicando os pesos da camada pelo tensor booleano\n",
        "                        p.multiply_(mask)\n",
        "                        #p[torch.logical_not(boolean)] = 0;\n",
        "    \n",
        "                        # >>> QUANTIZATION <<<\n",
        "                        #qk_prime = (torch.max(torch.abs(p)) - beta) / ( 2**(b - 1) - 1 )\n",
        "                        #torch.round(p/qk_prime, out=p)\n",
        "                        #p.multiply_(qk_prime)\n",
        "                        #C[k] = torch.round(P[k]/qk_prime) * qk_prime\n",
        "    \n",
        "                        #  >>> SHOW NORM DISTANCE \n",
        "                        #print(torch.norm(p - previous))\n",
        "                        #p.multiply_(pruned_weights)\n",
        "\n",
        "                        \n",
        "            #print(\"loss: \", loss.clone().detach())\n",
        "                \n",
        "            train_loss += loss.item()  \n",
        "            train_acc += accuracy(outputs, labels)\n",
        "        \n",
        "        # TEST\n",
        "        for i, data in enumerate(test_dl):\n",
        "            inputs, labels = data[0].to(dev), data[1].to(dev)\n",
        "\n",
        "            with torch.no_grad():\n",
        "              outputs = net(inputs)\n",
        "            test_loss += loss_fn(outputs, labels).item()\n",
        "            test_acc += accuracy(outputs, labels)\n",
        "            \n",
        "        train_loss /= 782.\n",
        "        train_acc /= 782.\n",
        "        test_loss /= 157.\n",
        "        test_acc /= 157.\n",
        "        dst = density(net)\n",
        "        \n",
        "        train_losses.append(train_loss)\n",
        "        train_accuracies.append(train_acc)\n",
        "        test_losses.append(test_loss)\n",
        "        test_accuracies.append(test_acc)\n",
        "        densities.append(density(net))\n",
        "        \n",
        "        print('Epoch: %d/%d \\\n",
        "               train loss: %.3f \\\n",
        "               train accuracy: %.3f \\\n",
        "               test accuracy: %.3f \\\n",
        "               density: %.3f' %\n",
        "            (epoch + 1, epochs, train_loss, train_acc, test_acc, dst)) # 782 == total of train batches\n",
        "        \n",
        "\n",
        "    print('Finished Training')\n",
        "    return train_losses, train_accuracies, test_losses, test_accuracies, densities "
      ],
      "execution_count": 61,
      "outputs": []
    },
    {
      "cell_type": "code",
      "metadata": {
        "colab": {
          "base_uri": "https://localhost:8080/"
        },
        "id": "ZmflH27owfKH",
        "outputId": "77a5141e-a055-495e-cb07-d564800878d9"
      },
      "source": [
        "from statistics import mean\n",
        "import torch.optim as optim\n",
        "\n",
        "criterion = nn.CrossEntropyLoss()\n",
        "\n",
        "#net_nopruning.to(dev)\n",
        "#data = fit_pruning(net_nopruning, 50, 0.0, criterion, trainloader, testloader)\n",
        "\n",
        "#print(\"no pruning accuracy: %.3f\" % torch.max(torch.Tensor(data[3])))\n",
        "#print(\"no pruning density: %.5f\" % density(net_nopruning))\n",
        "\n",
        "net_p05 = convModel()\n",
        "optimizer = optim.Adam(net_p05.parameters(), lr=0.001)\n",
        "print(net_p05)\n",
        "net_p05.to(dev)\n",
        "data = fit_pruning(net_p05, optimizer, 200, 0.0, criterion, trainloader, testloader)\n",
        "print(\"pruning gamma 0.5 accuracy: %.3f\" % torch.max(torch.Tensor(data[3])))\n",
        "print(\"pruning gamma 0.5 density: %.5f\" % torch.min(torch.Tensor(data[4])))\n",
        "\n",
        "#net_p10.to(dev)\n",
        "#data = fit_pruning(net_p10, 100, 1.0, criterion, trainloader, testloader)\n",
        "#print(\"pruning gamma 1.0 accuracy: %.3f\" % torch.max(torch.Tensor(data[3])))\n",
        "#print(\"pruning gamma 1.0 density: %.5f\" % density(net_p10))\n",
        "\n",
        "#net_p15.to(dev)\n",
        "#data = fit_pruning(net_p15, 140, 1.5, criterion, trainloader, testloader)\n",
        "#print(\"pruning gamma 1.5 accuracy: %.3f\" % torch.max(torch.Tensor(data[3])))\n",
        "#print(\"pruning gamma 1.5 density: %.5f\" % density(net_p15))"
      ],
      "execution_count": null,
      "outputs": [
        {
          "output_type": "stream",
          "text": [
            "convModel(\n",
            "  (conv1): Conv2d(3, 32, kernel_size=(3, 3), stride=(1, 1))\n",
            "  (conv2): Conv2d(32, 64, kernel_size=(3, 3), stride=(1, 1))\n",
            "  (conv3): Conv2d(64, 128, kernel_size=(3, 3), stride=(1, 1))\n",
            "  (conv4): Conv2d(128, 128, kernel_size=(3, 3), stride=(1, 1))\n",
            "  (conv5): Conv2d(128, 128, kernel_size=(3, 3), stride=(1, 1))\n",
            "  (maxpool): MaxPool2d(kernel_size=2, stride=2, padding=0, dilation=1, ceil_mode=False)\n",
            "  (dropout1): Dropout2d(p=0.2, inplace=False)\n",
            "  (dropout2): Dropout2d(p=0.4, inplace=False)\n",
            "  (fc1): Linear(in_features=2048, out_features=512, bias=True)\n",
            "  (fc2): Linear(in_features=512, out_features=256, bias=True)\n",
            "  (fc3): Linear(in_features=256, out_features=84, bias=True)\n",
            "  (fc4): Linear(in_features=84, out_features=10, bias=True)\n",
            ")\n",
            "Epoch: 1/200                train loss: 1.771                train accuracy: 0.335                test accuracy: 0.466                density: 1.000\n",
            "Epoch: 2/200                train loss: 1.469                train accuracy: 0.477                test accuracy: 0.540                density: 1.000\n",
            "Epoch: 3/200                train loss: 1.343                train accuracy: 0.528                test accuracy: 0.574                density: 1.000\n",
            "Epoch: 4/200                train loss: 1.263                train accuracy: 0.563                test accuracy: 0.603                density: 1.000\n"
          ],
          "name": "stdout"
        }
      ]
    },
    {
      "cell_type": "code",
      "metadata": {
        "id": "M3MdJtOWP3Hh"
      },
      "source": [
        "import pandas as pd\n",
        "\n",
        "def save_experiment(net, log, parameters):\n",
        "    train_losses, train_accuracies, test_losses, test_accuracies, densities = log\n",
        "    net_name = 'gamma' + parameters['gamma'] + 'acc' + str(max(test_accuracies).cpu().numpy())[:4] + 'dst' + str(max(densities))[:4]\n",
        "\n",
        "\n",
        "    df = pd.DataFrame({\n",
        "        'loss': train_losses,\n",
        "        'test_accuracy': list(map(lambda x: x.cpu().numpy(), test_accuracies)),\n",
        "        'density': densities\n",
        "    })\n",
        "\n",
        "    df['epoch'] = range(1, len(train_losses) + 1)\n",
        "    df.to_csv(net_name + '.csv')\n",
        "\n",
        "    torch.save(net, net_name + '.pth')\n",
        "\n",
        "save_experiment(net_p05, data, {'gamma': '0.5'})"
      ],
      "execution_count": 63,
      "outputs": []
    },
    {
      "cell_type": "code",
      "metadata": {
        "id": "oyo-T52NwrI-",
        "colab": {
          "base_uri": "https://localhost:8080/"
        },
        "outputId": "57575fc4-68c9-4344-9b3e-31096df6fc2a"
      },
      "source": [
        "#torch.save(net_nopruning, './models/no_pruning/model.pth')\n",
        "print(density(net_p05))\n",
        "torch.save(net_p05, './pruning_gamma05.pth')\n",
        "\n",
        "\n",
        "#torch.save(net_p10, './models/pruning_gamma10/model.pth')\n",
        "\n",
        "#torch.save(net_p15, './models/pruning_gamma15/model.pth')"
      ],
      "execution_count": null,
      "outputs": [
        {
          "output_type": "stream",
          "text": [
            "non zero:  tensor(42162, device='cuda:0')\n",
            "count:  1591270\n",
            "tensor(0.0265, device='cuda:0')\n"
          ],
          "name": "stdout"
        }
      ]
    },
    {
      "cell_type": "code",
      "metadata": {
        "id": "KBYeXss2xC6g"
      },
      "source": [
        "import matplotlib.pyplot as plt\n",
        "\n"
      ],
      "execution_count": null,
      "outputs": []
    }
  ]
}