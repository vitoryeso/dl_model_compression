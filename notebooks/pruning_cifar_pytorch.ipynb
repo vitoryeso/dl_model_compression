{
  "nbformat": 4,
  "nbformat_minor": 0,
  "metadata": {
    "colab": {
      "name": "pruning_cifar_pytorch.ipynb",
      "provenance": [],
      "collapsed_sections": []
    },
    "kernelspec": {
      "name": "python3",
      "display_name": "Python 3"
    },
    "language_info": {
      "name": "python"
    },
    "accelerator": "GPU",
    "widgets": {
      "application/vnd.jupyter.widget-state+json": {
        "602d7351bedc482bac1afe40fbb5f358": {
          "model_module": "@jupyter-widgets/controls",
          "model_name": "HBoxModel",
          "model_module_version": "1.5.0",
          "state": {
            "_view_name": "HBoxView",
            "_dom_classes": [],
            "_model_name": "HBoxModel",
            "_view_module": "@jupyter-widgets/controls",
            "_model_module_version": "1.5.0",
            "_view_count": null,
            "_view_module_version": "1.5.0",
            "box_style": "",
            "layout": "IPY_MODEL_c86e8f15637c42098fa185b49c72d37a",
            "_model_module": "@jupyter-widgets/controls",
            "children": [
              "IPY_MODEL_e479666733ed4239b49e3ee8ba64715b",
              "IPY_MODEL_c5273b93055b4634a3de37b42d95f5db",
              "IPY_MODEL_7899418eea384832ae898c13ff32ed79"
            ]
          }
        },
        "c86e8f15637c42098fa185b49c72d37a": {
          "model_module": "@jupyter-widgets/base",
          "model_name": "LayoutModel",
          "model_module_version": "1.2.0",
          "state": {
            "_view_name": "LayoutView",
            "grid_template_rows": null,
            "right": null,
            "justify_content": null,
            "_view_module": "@jupyter-widgets/base",
            "overflow": null,
            "_model_module_version": "1.2.0",
            "_view_count": null,
            "flex_flow": null,
            "width": null,
            "min_width": null,
            "border": null,
            "align_items": null,
            "bottom": null,
            "_model_module": "@jupyter-widgets/base",
            "top": null,
            "grid_column": null,
            "overflow_y": null,
            "overflow_x": null,
            "grid_auto_flow": null,
            "grid_area": null,
            "grid_template_columns": null,
            "flex": null,
            "_model_name": "LayoutModel",
            "justify_items": null,
            "grid_row": null,
            "max_height": null,
            "align_content": null,
            "visibility": null,
            "align_self": null,
            "height": null,
            "min_height": null,
            "padding": null,
            "grid_auto_rows": null,
            "grid_gap": null,
            "max_width": null,
            "order": null,
            "_view_module_version": "1.2.0",
            "grid_template_areas": null,
            "object_position": null,
            "object_fit": null,
            "grid_auto_columns": null,
            "margin": null,
            "display": null,
            "left": null
          }
        },
        "e479666733ed4239b49e3ee8ba64715b": {
          "model_module": "@jupyter-widgets/controls",
          "model_name": "HTMLModel",
          "model_module_version": "1.5.0",
          "state": {
            "_view_name": "HTMLView",
            "style": "IPY_MODEL_149a4b85a0774deca9814bdfb7ddcb1c",
            "_dom_classes": [],
            "description": "",
            "_model_name": "HTMLModel",
            "placeholder": "​",
            "_view_module": "@jupyter-widgets/controls",
            "_model_module_version": "1.5.0",
            "value": " 51%",
            "_view_count": null,
            "_view_module_version": "1.5.0",
            "description_tooltip": null,
            "_model_module": "@jupyter-widgets/controls",
            "layout": "IPY_MODEL_a98687215b854991b55b3744aec3d079"
          }
        },
        "c5273b93055b4634a3de37b42d95f5db": {
          "model_module": "@jupyter-widgets/controls",
          "model_name": "FloatProgressModel",
          "model_module_version": "1.5.0",
          "state": {
            "_view_name": "ProgressView",
            "style": "IPY_MODEL_188720b2e45749cb9d2171fc32968d1d",
            "_dom_classes": [],
            "description": "",
            "_model_name": "FloatProgressModel",
            "bar_style": "",
            "max": 170498071,
            "_view_module": "@jupyter-widgets/controls",
            "_model_module_version": "1.5.0",
            "value": 87032832,
            "_view_count": null,
            "_view_module_version": "1.5.0",
            "orientation": "horizontal",
            "min": 0,
            "description_tooltip": null,
            "_model_module": "@jupyter-widgets/controls",
            "layout": "IPY_MODEL_bf60b5af9c4844f5a86861f885ce3c22"
          }
        },
        "7899418eea384832ae898c13ff32ed79": {
          "model_module": "@jupyter-widgets/controls",
          "model_name": "HTMLModel",
          "model_module_version": "1.5.0",
          "state": {
            "_view_name": "HTMLView",
            "style": "IPY_MODEL_4a3239481afd482287d6230773a6de03",
            "_dom_classes": [],
            "description": "",
            "_model_name": "HTMLModel",
            "placeholder": "​",
            "_view_module": "@jupyter-widgets/controls",
            "_model_module_version": "1.5.0",
            "value": " 87032832/170498071 [00:06&lt;00:04, 16976113.47it/s]",
            "_view_count": null,
            "_view_module_version": "1.5.0",
            "description_tooltip": null,
            "_model_module": "@jupyter-widgets/controls",
            "layout": "IPY_MODEL_9b3c3ca4f6294928852f2c8a730b6ab9"
          }
        },
        "149a4b85a0774deca9814bdfb7ddcb1c": {
          "model_module": "@jupyter-widgets/controls",
          "model_name": "DescriptionStyleModel",
          "model_module_version": "1.5.0",
          "state": {
            "_view_name": "StyleView",
            "_model_name": "DescriptionStyleModel",
            "description_width": "",
            "_view_module": "@jupyter-widgets/base",
            "_model_module_version": "1.5.0",
            "_view_count": null,
            "_view_module_version": "1.2.0",
            "_model_module": "@jupyter-widgets/controls"
          }
        },
        "a98687215b854991b55b3744aec3d079": {
          "model_module": "@jupyter-widgets/base",
          "model_name": "LayoutModel",
          "model_module_version": "1.2.0",
          "state": {
            "_view_name": "LayoutView",
            "grid_template_rows": null,
            "right": null,
            "justify_content": null,
            "_view_module": "@jupyter-widgets/base",
            "overflow": null,
            "_model_module_version": "1.2.0",
            "_view_count": null,
            "flex_flow": null,
            "width": null,
            "min_width": null,
            "border": null,
            "align_items": null,
            "bottom": null,
            "_model_module": "@jupyter-widgets/base",
            "top": null,
            "grid_column": null,
            "overflow_y": null,
            "overflow_x": null,
            "grid_auto_flow": null,
            "grid_area": null,
            "grid_template_columns": null,
            "flex": null,
            "_model_name": "LayoutModel",
            "justify_items": null,
            "grid_row": null,
            "max_height": null,
            "align_content": null,
            "visibility": null,
            "align_self": null,
            "height": null,
            "min_height": null,
            "padding": null,
            "grid_auto_rows": null,
            "grid_gap": null,
            "max_width": null,
            "order": null,
            "_view_module_version": "1.2.0",
            "grid_template_areas": null,
            "object_position": null,
            "object_fit": null,
            "grid_auto_columns": null,
            "margin": null,
            "display": null,
            "left": null
          }
        },
        "188720b2e45749cb9d2171fc32968d1d": {
          "model_module": "@jupyter-widgets/controls",
          "model_name": "ProgressStyleModel",
          "model_module_version": "1.5.0",
          "state": {
            "_view_name": "StyleView",
            "_model_name": "ProgressStyleModel",
            "description_width": "",
            "_view_module": "@jupyter-widgets/base",
            "_model_module_version": "1.5.0",
            "_view_count": null,
            "_view_module_version": "1.2.0",
            "bar_color": null,
            "_model_module": "@jupyter-widgets/controls"
          }
        },
        "bf60b5af9c4844f5a86861f885ce3c22": {
          "model_module": "@jupyter-widgets/base",
          "model_name": "LayoutModel",
          "model_module_version": "1.2.0",
          "state": {
            "_view_name": "LayoutView",
            "grid_template_rows": null,
            "right": null,
            "justify_content": null,
            "_view_module": "@jupyter-widgets/base",
            "overflow": null,
            "_model_module_version": "1.2.0",
            "_view_count": null,
            "flex_flow": null,
            "width": null,
            "min_width": null,
            "border": null,
            "align_items": null,
            "bottom": null,
            "_model_module": "@jupyter-widgets/base",
            "top": null,
            "grid_column": null,
            "overflow_y": null,
            "overflow_x": null,
            "grid_auto_flow": null,
            "grid_area": null,
            "grid_template_columns": null,
            "flex": null,
            "_model_name": "LayoutModel",
            "justify_items": null,
            "grid_row": null,
            "max_height": null,
            "align_content": null,
            "visibility": null,
            "align_self": null,
            "height": null,
            "min_height": null,
            "padding": null,
            "grid_auto_rows": null,
            "grid_gap": null,
            "max_width": null,
            "order": null,
            "_view_module_version": "1.2.0",
            "grid_template_areas": null,
            "object_position": null,
            "object_fit": null,
            "grid_auto_columns": null,
            "margin": null,
            "display": null,
            "left": null
          }
        },
        "4a3239481afd482287d6230773a6de03": {
          "model_module": "@jupyter-widgets/controls",
          "model_name": "DescriptionStyleModel",
          "model_module_version": "1.5.0",
          "state": {
            "_view_name": "StyleView",
            "_model_name": "DescriptionStyleModel",
            "description_width": "",
            "_view_module": "@jupyter-widgets/base",
            "_model_module_version": "1.5.0",
            "_view_count": null,
            "_view_module_version": "1.2.0",
            "_model_module": "@jupyter-widgets/controls"
          }
        },
        "9b3c3ca4f6294928852f2c8a730b6ab9": {
          "model_module": "@jupyter-widgets/base",
          "model_name": "LayoutModel",
          "model_module_version": "1.2.0",
          "state": {
            "_view_name": "LayoutView",
            "grid_template_rows": null,
            "right": null,
            "justify_content": null,
            "_view_module": "@jupyter-widgets/base",
            "overflow": null,
            "_model_module_version": "1.2.0",
            "_view_count": null,
            "flex_flow": null,
            "width": null,
            "min_width": null,
            "border": null,
            "align_items": null,
            "bottom": null,
            "_model_module": "@jupyter-widgets/base",
            "top": null,
            "grid_column": null,
            "overflow_y": null,
            "overflow_x": null,
            "grid_auto_flow": null,
            "grid_area": null,
            "grid_template_columns": null,
            "flex": null,
            "_model_name": "LayoutModel",
            "justify_items": null,
            "grid_row": null,
            "max_height": null,
            "align_content": null,
            "visibility": null,
            "align_self": null,
            "height": null,
            "min_height": null,
            "padding": null,
            "grid_auto_rows": null,
            "grid_gap": null,
            "max_width": null,
            "order": null,
            "_view_module_version": "1.2.0",
            "grid_template_areas": null,
            "object_position": null,
            "object_fit": null,
            "grid_auto_columns": null,
            "margin": null,
            "display": null,
            "left": null
          }
        }
      }
    }
  },
  "cells": [
    {
      "cell_type": "code",
      "metadata": {
        "id": "oyxolulyvU10"
      },
      "source": [
        "import torch\n",
        "\n",
        "import torchvision\n",
        "import torchvision.transforms as transforms"
      ],
      "execution_count": 1,
      "outputs": []
    },
    {
      "cell_type": "code",
      "metadata": {
        "colab": {
          "base_uri": "https://localhost:8080/"
        },
        "id": "3_IjTQmDvnGG",
        "outputId": "03c50b33-7eba-4378-dab4-aa45921867ae"
      },
      "source": [
        "dev = torch.device(\n",
        "    \"cuda\") if torch.cuda.is_available() else torch.device(\"cpu\")\n",
        "\n",
        "dev"
      ],
      "execution_count": 2,
      "outputs": [
        {
          "output_type": "execute_result",
          "data": {
            "text/plain": [
              "device(type='cuda')"
            ]
          },
          "metadata": {},
          "execution_count": 2
        }
      ]
    },
    {
      "cell_type": "code",
      "metadata": {
        "colab": {
          "base_uri": "https://localhost:8080/",
          "height": 67,
          "referenced_widgets": [
            "602d7351bedc482bac1afe40fbb5f358",
            "c86e8f15637c42098fa185b49c72d37a",
            "e479666733ed4239b49e3ee8ba64715b",
            "c5273b93055b4634a3de37b42d95f5db",
            "7899418eea384832ae898c13ff32ed79",
            "149a4b85a0774deca9814bdfb7ddcb1c",
            "a98687215b854991b55b3744aec3d079",
            "188720b2e45749cb9d2171fc32968d1d",
            "bf60b5af9c4844f5a86861f885ce3c22",
            "4a3239481afd482287d6230773a6de03",
            "9b3c3ca4f6294928852f2c8a730b6ab9"
          ]
        },
        "id": "u-7UczrZvrS5",
        "outputId": "2e29c09a-7cac-4cab-856e-531ad4d2e5c0"
      },
      "source": [
        "transform_train = transforms.Compose(\n",
        "    [transforms.RandomCrop(32, padding=4),\n",
        "     transforms.RandomHorizontalFlip(),\n",
        "     transforms.ToTensor(),\n",
        "     # transforms Normalize ( (R_mean, G_mean, B_mean), (R_std, G_std, B_std) )\n",
        "     transforms.Normalize((0.5, 0.5, 0.5), (0.5, 0.5, 0.5))])\n",
        "\n",
        "transform_test = transforms.Compose(\n",
        "    [transforms.ToTensor(),\n",
        "     # transforms Normalize ( (R_mean, G_mean, B_mean), (R_std, G_std, B_std) )\n",
        "     transforms.Normalize((0.5, 0.5, 0.5), (0.5, 0.5, 0.5))])\n",
        "\n",
        "batch_size = 64\n",
        "\n",
        "trainset = torchvision.datasets.CIFAR10(root='./data', train=True,\n",
        "                                        download=True, transform=transform_train)\n",
        "\n",
        "trainloader = torch.utils.data.DataLoader(trainset, batch_size=batch_size,\n",
        "                                          shuffle=True, num_workers=2)\n",
        "\n",
        "testset = torchvision.datasets.CIFAR10(root='./data', train=False,\n",
        "                                       download=True, transform=transform_test)\n",
        "testloader = torch.utils.data.DataLoader(testset, batch_size=batch_size,\n",
        "                                         shuffle=False, num_workers=2)\n",
        "\n",
        "\n",
        "classes = ('plane', 'car', 'bird', 'cat',\n",
        "           'deer', 'dog', 'frog', 'horse', 'ship', 'truck')"
      ],
      "execution_count": null,
      "outputs": [
        {
          "output_type": "stream",
          "text": [
            "Downloading https://www.cs.toronto.edu/~kriz/cifar-10-python.tar.gz to ./data/cifar-10-python.tar.gz\n"
          ],
          "name": "stdout"
        },
        {
          "output_type": "display_data",
          "data": {
            "application/vnd.jupyter.widget-view+json": {
              "model_id": "602d7351bedc482bac1afe40fbb5f358",
              "version_minor": 0,
              "version_major": 2
            },
            "text/plain": [
              "  0%|          | 0/170498071 [00:00<?, ?it/s]"
            ]
          },
          "metadata": {}
        }
      ]
    },
    {
      "cell_type": "code",
      "metadata": {
        "id": "SGfHiWcYwOe2"
      },
      "source": [
        "print(trainset)\n",
        "\n",
        "print(testset)"
      ],
      "execution_count": null,
      "outputs": []
    },
    {
      "cell_type": "code",
      "metadata": {
        "id": "fd0v-cqcwRYZ"
      },
      "source": [
        "data = iter(trainloader)\n",
        "x, y = data.next()\n",
        "print(x.shape)"
      ],
      "execution_count": null,
      "outputs": []
    },
    {
      "cell_type": "code",
      "metadata": {
        "id": "ufmHMliJwTn4"
      },
      "source": [
        "import matplotlib.pyplot as plt\n",
        "import numpy as np\n",
        "\n",
        "# functions to show an image\n",
        "\n",
        "\n",
        "def imshow(img):\n",
        "    img = img / 2 + 0.5     # unnormalize\n",
        "    npimg = img.numpy()\n",
        "    plt.axis('Off')\n",
        "    plt.imshow(np.transpose(npimg, (1, 2, 0)))\n",
        "    plt.show()\n",
        "\n",
        "\n",
        "# get some random training images\n",
        "dataiter = iter(trainloader)\n",
        "images, labels = dataiter.next()\n",
        "\n",
        "# show images\n",
        "imshow(torchvision.utils.make_grid(images[:7]))\n",
        "# print labels\n",
        "print(' '.join('%5s' % classes[labels[j]] for j in range(7)))"
      ],
      "execution_count": null,
      "outputs": []
    },
    {
      "cell_type": "code",
      "metadata": {
        "id": "IrBrGiZnwVeU"
      },
      "source": [
        "import torch.nn as nn\n",
        "import torch.nn.functional as F\n",
        "\n",
        "class convModel(nn.Module):\n",
        "    def __init__(self):\n",
        "        super().__init__()\n",
        "        \n",
        "        # Conv2D(in_channels, out_channels, kernel_size, ...)\n",
        "        self.conv1 = nn.Conv2d(3, 32, 3)\n",
        "        self.batchnorm1 = nn.BatchNorm2d(32)\n",
        "        self.conv2 = nn.Conv2d(32, 64, 3)\n",
        "        self.batchnorm2 = nn.BatchNorm2d(64)\n",
        "        self.conv3 = nn.Conv2d(64, 128, 3)\n",
        "        self.batchnorm3 = nn.BatchNorm2d(128)\n",
        "\n",
        "        self.conv4 = nn.Conv2d(128, 128, 3)\n",
        "        self.batchnorm4 = nn.BatchNorm2d(128)\n",
        "        self.conv5 = nn.Conv2d(128, 128, 3)\n",
        "        self.batchnorm5 = nn.BatchNorm2d(128)\n",
        "        \n",
        "        # MaxPool2D(kernel_size, stride, ...)\n",
        "        self.maxpool = nn.MaxPool2d(2, 2)\n",
        "\n",
        "        self.dropout1 = nn.Dropout2d(0.2)\n",
        "        self.dropout2 = nn.Dropout2d(0.4)\n",
        "        \n",
        "        self.fc1 = nn.Linear(4 * 4 * 128, 512)\n",
        "        self.fc2 = nn.Linear(512, 256)\n",
        "        self.fc3 = nn.Linear(256, 84)\n",
        "        self.fc4 = nn.Linear(84, 10)\n",
        "        \n",
        "    def forward(self, x):\n",
        "        x = F.relu(self.batchnorm1(self.conv1(x)))               # 32 filtros\n",
        "        x = F.relu(self.batchnorm2(self.conv2(x)))               # 64 filtros\n",
        "        x = self.maxpool(self.batchnorm3(self.conv3(x)))        # 128 filtros\n",
        "        x = F.relu(x)\n",
        "\n",
        "        x = F.relu(self.batchnorm4(self.conv4(x)))               # 128 filtros\n",
        "        x = self.maxpool(self.batchnorm5(self.conv5(x)))        # 128 filtros\n",
        "        x = F.relu(x)\n",
        "        \n",
        "        x = torch.flatten(x, 1)\n",
        "\n",
        "        x = F.relu(self.fc1(x))\n",
        "        x = self.dropout2(x)            # 40%\n",
        "\n",
        "        x = F.relu(self.fc2(x))\n",
        "        x = self.dropout1(x)\n",
        "\n",
        "        x = F.relu(self.fc3(x))\n",
        "        x = self.dropout1(x)\n",
        "\n",
        "        x = self.fc4(x)\n",
        "        \n",
        "        return x"
      ],
      "execution_count": null,
      "outputs": []
    },
    {
      "cell_type": "code",
      "metadata": {
        "id": "sczrsgYvRUe3"
      },
      "source": [
        "def accuracy(out, yb):\n",
        "    preds = torch.argmax(out, dim=1)\n",
        "    return (preds == yb).float().mean()\n",
        "\n",
        "print(len(testloader))\n",
        "print(len(trainloader))"
      ],
      "execution_count": null,
      "outputs": []
    },
    {
      "cell_type": "code",
      "metadata": {
        "id": "0end8WeTT-Jv"
      },
      "source": [
        "def density(net):\n",
        "  non_zero = 0\n",
        "  count = 0\n",
        "  with torch.no_grad():\n",
        "      for p in net.parameters():\n",
        "        #flatted_weights = torch.flatten(p)\n",
        "        non_zero += torch.count_nonzero(p).cpu().numpy()\n",
        "        count += torch.numel(p)\n",
        "\n",
        "  #print(\"non zero: \", non_zero)\n",
        "  #print(\"count: \", count)\n",
        "  return non_zero / count\n"
      ],
      "execution_count": null,
      "outputs": []
    },
    {
      "cell_type": "code",
      "metadata": {
        "id": "QHllEZHf8YNe"
      },
      "source": [
        "# fit pruning\n",
        "# return list of loss, acc\n",
        "def fit_pruning(net, optimizer, epochs, gamma, loss_fn, train_dl, test_dl, b=8):\n",
        "    train_losses = []\n",
        "    test_losses = []\n",
        "    train_accuracies = []\n",
        "    test_accuracies = []\n",
        "    densities = []\n",
        "    for epoch in range(epochs):  # loop over the dataset multiple times\n",
        "        train_loss = 0.0\n",
        "        test_loss = 0.0\n",
        "        train_acc = 0.0\n",
        "        test_acc = 0.0\n",
        "\n",
        "        # TRAIN\n",
        "        for i, data in enumerate(train_dl):\n",
        "            # get the inputs; data is a list of [inputs, labels]\n",
        "            inputs, labels = data[0].to(dev), data[1].to(dev)\n",
        "\n",
        "            # forward\n",
        "            outputs = net(inputs)\n",
        "            \n",
        "            # loss calculation\n",
        "            loss = loss_fn(outputs, labels)\n",
        "            \n",
        "            # loss backward. grads are generated here\n",
        "            loss.backward()\n",
        "            \n",
        "            # update weights\n",
        "            optimizer.step()\n",
        "\n",
        "            # reset gradients\n",
        "            optimizer.zero_grad()\n",
        "\n",
        "            # >>> PRUNING <<<\n",
        "            if gamma > 0.0:\n",
        "                for p in net.parameters():\n",
        "                    #previous = p.clone().detach();\n",
        "                    \n",
        "                    with torch.no_grad():\n",
        "                        # transformando o layer em um vetor unidimensional \n",
        "                        flatted_weights = torch.flatten(p)\n",
        "    \n",
        "                        # calculando o desvio padrao\n",
        "                        std = torch.std(flatted_weights, -1)\n",
        "    \n",
        "                        # calculando o beta para a camada\n",
        "                        beta = gamma * std                        \n",
        "                        \n",
        "                        # mascara booleana, que indica qual peso devera ser mantido\n",
        "                        mask = torch.gt(p.abs(), torch.ones_like(p) * beta)\n",
        "                        \n",
        "                        # multiplicando os pesos da camada pelo tensor booleano\n",
        "                        p.multiply_(mask)\n",
        "                        #p[torch.logical_not(boolean)] = 0;\n",
        "    \n",
        "                        # >>> QUANTIZATION <<<\n",
        "                        #qk_prime = (torch.max(torch.abs(p)) - beta) / ( 2**(b - 1) - 1 )\n",
        "                        #torch.round(p/qk_prime, out=p)\n",
        "                        #p.multiply_(qk_prime)\n",
        "                        #C[k] = torch.round(P[k]/qk_prime) * qk_prime\n",
        "    \n",
        "                        #  >>> SHOW NORM DISTANCE \n",
        "                        #print(torch.norm(p - previous))\n",
        "                        #p.multiply_(pruned_weights)\n",
        "\n",
        "                        \n",
        "            #print(\"loss: \", loss.clone().detach())\n",
        "                \n",
        "            train_loss += loss.item()  \n",
        "            train_acc += accuracy(outputs, labels)\n",
        "        \n",
        "        # TEST\n",
        "        for i, data in enumerate(test_dl):\n",
        "            inputs, labels = data[0].to(dev), data[1].to(dev)\n",
        "\n",
        "            with torch.no_grad():\n",
        "              outputs = net(inputs)\n",
        "            test_loss += loss_fn(outputs, labels).item()\n",
        "            test_acc += accuracy(outputs, labels)\n",
        "            \n",
        "        train_loss /= 782.\n",
        "        train_acc /= 782.\n",
        "        test_loss /= 157.\n",
        "        test_acc /= 157.\n",
        "        dst = density(net)\n",
        "        \n",
        "        train_losses.append(train_loss)\n",
        "        train_accuracies.append(train_acc)\n",
        "        test_losses.append(test_loss)\n",
        "        test_accuracies.append(test_acc)\n",
        "        densities.append(density(net))\n",
        "        \n",
        "        print('Epoch: %d/%d \\\n",
        "               train loss: %.3f \\\n",
        "               train accuracy: %.3f \\\n",
        "               test accuracy: %.3f \\\n",
        "               density: %.3f' %\n",
        "            (epoch + 1, epochs, train_loss, train_acc, test_acc, dst)) # 782 == total of train batches\n",
        "        \n",
        "\n",
        "    print('Finished Training')\n",
        "    return train_losses, train_accuracies, test_losses, test_accuracies, densities "
      ],
      "execution_count": null,
      "outputs": []
    },
    {
      "cell_type": "code",
      "metadata": {
        "id": "ZmflH27owfKH"
      },
      "source": [
        "from statistics import mean\n",
        "import torch.optim as optim\n",
        "\n",
        "criterion = nn.CrossEntropyLoss()\n",
        "\n",
        "#net_nopruning.to(dev)\n",
        "#data = fit_pruning(net_nopruning, 50, 0.0, criterion, trainloader, testloader)\n",
        "\n",
        "#print(\"no pruning accuracy: %.3f\" % torch.max(torch.Tensor(data[3])))\n",
        "#print(\"no pruning density: %.5f\" % density(net_nopruning))\n",
        "\n",
        "net_p05 = convModel()\n",
        "optimizer = optim.Adam(net_p05.parameters(), lr=0.001)\n",
        "print(net_p05)\n",
        "net_p05.to(dev)\n",
        "data = fit_pruning(net_p05, optimizer, 100, 0.0, criterion, trainloader, testloader)\n",
        "print(\"pruning gamma 0.5 accuracy: %.3f\" % torch.max(torch.Tensor(data[3])))\n",
        "print(\"pruning gamma 0.5 density: %.5f\" % torch.min(torch.Tensor(data[4])))\n",
        "\n",
        "#net_p10.to(dev)\n",
        "#data = fit_pruning(net_p10, 100, 1.0, criterion, trainloader, testloader)\n",
        "#print(\"pruning gamma 1.0 accuracy: %.3f\" % torch.max(torch.Tensor(data[3])))\n",
        "#print(\"pruning gamma 1.0 density: %.5f\" % density(net_p10))\n",
        "\n",
        "#net_p15.to(dev)\n",
        "#data = fit_pruning(net_p15, 140, 1.5, criterion, trainloader, testloader)\n",
        "#print(\"pruning gamma 1.5 accuracy: %.3f\" % torch.max(torch.Tensor(data[3])))\n",
        "#print(\"pruning gamma 1.5 density: %.5f\" % density(net_p15))"
      ],
      "execution_count": null,
      "outputs": []
    },
    {
      "cell_type": "code",
      "metadata": {
        "id": "M3MdJtOWP3Hh"
      },
      "source": [
        "import pandas as pd\n",
        "\n",
        "def save_experiment(net, log, parameters):\n",
        "    train_losses, train_accuracies, test_losses, test_accuracies, densities = log\n",
        "    net_name = 'gamma' + parameters['gamma'] + 'acc' + str(max(test_accuracies).cpu().numpy())[:4] + 'dst' + str(max(densities))[:4]\n",
        "\n",
        "\n",
        "    df = pd.DataFrame({\n",
        "        'loss': train_losses,\n",
        "        'test_accuracy': list(map(lambda x: x.cpu().numpy(), test_accuracies)),\n",
        "        'density': densities\n",
        "    })\n",
        "\n",
        "    df['epoch'] = range(1, len(train_losses) + 1)\n",
        "    df.to_csv(net_name + '.csv')\n",
        "\n",
        "    torch.save(net, net_name + '.pth')\n",
        "\n",
        "save_experiment(net_p05, data, {'gamma': '0.0'})"
      ],
      "execution_count": null,
      "outputs": []
    },
    {
      "cell_type": "code",
      "metadata": {
        "id": "oyo-T52NwrI-",
        "colab": {
          "base_uri": "https://localhost:8080/"
        },
        "outputId": "57575fc4-68c9-4344-9b3e-31096df6fc2a"
      },
      "source": [
        "#torch.save(net_nopruning, './models/no_pruning/model.pth')\n",
        "print(density(net_p05))\n",
        "torch.save(net_p05, './pruning_gamma05.pth')\n",
        "\n",
        "\n",
        "#torch.save(net_p10, './models/pruning_gamma10/model.pth')\n",
        "\n",
        "#torch.save(net_p15, './models/pruning_gamma15/model.pth')"
      ],
      "execution_count": null,
      "outputs": [
        {
          "output_type": "stream",
          "text": [
            "non zero:  tensor(42162, device='cuda:0')\n",
            "count:  1591270\n",
            "tensor(0.0265, device='cuda:0')\n"
          ],
          "name": "stdout"
        }
      ]
    },
    {
      "cell_type": "code",
      "metadata": {
        "id": "KBYeXss2xC6g"
      },
      "source": [
        "import matplotlib.pyplot as plt\n",
        "\n"
      ],
      "execution_count": null,
      "outputs": []
    }
  ]
}